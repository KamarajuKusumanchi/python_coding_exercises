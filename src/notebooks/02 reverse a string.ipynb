{
 "cells": [
  {
   "cell_type": "markdown",
   "id": "ed042512-3d65-4b0e-8b11-9dfd601ff7ab",
   "metadata": {},
   "source": [
    "write a function to reverse a string"
   ]
  },
  {
   "cell_type": "code",
   "execution_count": 1,
   "id": "8e8c993a-9afe-468f-aec3-0341d373a1e3",
   "metadata": {},
   "outputs": [],
   "source": [
    "def reverse_string(s):\n",
    "    return s[::-1]"
   ]
  },
  {
   "cell_type": "code",
   "execution_count": 2,
   "id": "196aedcc-9524-4d09-8cba-446325af283f",
   "metadata": {},
   "outputs": [
    {
     "data": {
      "text/plain": [
       "'ujar'"
      ]
     },
     "execution_count": 2,
     "metadata": {},
     "output_type": "execute_result"
    }
   ],
   "source": [
    "reverse_string('raju')"
   ]
  },
  {
   "cell_type": "code",
   "execution_count": 4,
   "id": "f439945a-c480-4c47-be0c-bda94b37e0aa",
   "metadata": {},
   "outputs": [
    {
     "data": {
      "text/plain": [
       "'ujar amak'"
      ]
     },
     "execution_count": 4,
     "metadata": {},
     "output_type": "execute_result"
    }
   ],
   "source": [
    "reverse_string('kama raju')"
   ]
  },
  {
   "cell_type": "code",
   "execution_count": null,
   "id": "7146a01e-5121-49ae-8038-8d2df1417170",
   "metadata": {},
   "outputs": [],
   "source": []
  }
 ],
 "metadata": {
  "kernelspec": {
   "display_name": "Python 3 (ipykernel)",
   "language": "python",
   "name": "python3"
  },
  "language_info": {
   "codemirror_mode": {
    "name": "ipython",
    "version": 3
   },
   "file_extension": ".py",
   "mimetype": "text/x-python",
   "name": "python",
   "nbconvert_exporter": "python",
   "pygments_lexer": "ipython3",
   "version": "3.10.6"
  }
 },
 "nbformat": 4,
 "nbformat_minor": 5
}
