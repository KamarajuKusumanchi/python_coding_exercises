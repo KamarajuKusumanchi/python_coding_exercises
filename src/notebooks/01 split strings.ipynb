{
 "cells": [
  {
   "cell_type": "markdown",
   "id": "f80f40d1-f4c1-4731-8457-29ab58b8c39b",
   "metadata": {},
   "source": [
    "Write a function to split strings without using the builtin .split() and .strip() functions"
   ]
  },
  {
   "cell_type": "code",
   "execution_count": 27,
   "id": "a2724123-20fa-4f89-9839-9349a1fba878",
   "metadata": {},
   "outputs": [],
   "source": [
    "def split(string, delimiters=set(' \\t\\n')):\n",
    "    words = []\n",
    "    word = ''\n",
    "    for c in string:\n",
    "        if c not in delimiters:\n",
    "            word += c\n",
    "        elif word:\n",
    "            words.append(word)\n",
    "            word = ''\n",
    "    if word:\n",
    "        words.append(word)\n",
    "    return words"
   ]
  },
  {
   "cell_type": "code",
   "execution_count": 28,
   "id": "0da82eea-2bda-4909-b1c2-99a23a14b262",
   "metadata": {},
   "outputs": [
    {
     "data": {
      "text/plain": [
       "['kamaraju']"
      ]
     },
     "execution_count": 28,
     "metadata": {},
     "output_type": "execute_result"
    }
   ],
   "source": [
    "split('kamaraju')"
   ]
  },
  {
   "cell_type": "code",
   "execution_count": 29,
   "id": "5a76c092-1b2a-4807-8143-5c1d8d3aee0c",
   "metadata": {},
   "outputs": [
    {
     "data": {
      "text/plain": [
       "['kama', 'raju']"
      ]
     },
     "execution_count": 29,
     "metadata": {},
     "output_type": "execute_result"
    }
   ],
   "source": [
    "split('kama raju')"
   ]
  },
  {
   "cell_type": "code",
   "execution_count": 34,
   "id": "4863052f-1f95-42dc-b321-96a853fe234f",
   "metadata": {},
   "outputs": [
    {
     "data": {
      "text/plain": [
       "['kama', 'raju']"
      ]
     },
     "execution_count": 34,
     "metadata": {},
     "output_type": "execute_result"
    }
   ],
   "source": [
    "split('kama  raju')"
   ]
  },
  {
   "cell_type": "code",
   "execution_count": 35,
   "id": "29620183-78e7-4eb1-8e2c-165f009a5805",
   "metadata": {},
   "outputs": [
    {
     "data": {
      "text/plain": [
       "['duff_beer', '4.00']"
      ]
     },
     "execution_count": 35,
     "metadata": {},
     "output_type": "execute_result"
    }
   ],
   "source": [
    "split('duff_beer 4.00')"
   ]
  },
  {
   "cell_type": "code",
   "execution_count": 36,
   "id": "dcc8a73d-c3ea-430f-9e76-01fe45c56ae6",
   "metadata": {},
   "outputs": [
    {
     "data": {
      "text/plain": [
       "['a', 'b', 'c']"
      ]
     },
     "execution_count": 36,
     "metadata": {},
     "output_type": "execute_result"
    }
   ],
   "source": [
    "split('a b c\\n')"
   ]
  },
  {
   "cell_type": "code",
   "execution_count": 37,
   "id": "c5fde156-b086-4d96-b9bb-b6165e3ae874",
   "metadata": {},
   "outputs": [
    {
     "data": {
      "text/plain": [
       "['x', 'y', 'z']"
      ]
     },
     "execution_count": 37,
     "metadata": {},
     "output_type": "execute_result"
    }
   ],
   "source": [
    "split('\\tx y \\n z ')"
   ]
  },
  {
   "cell_type": "code",
   "execution_count": null,
   "id": "e5a75f78-5778-4f42-b300-b0046842189d",
   "metadata": {},
   "outputs": [],
   "source": []
  }
 ],
 "metadata": {
  "kernelspec": {
   "display_name": "Python 3 (ipykernel)",
   "language": "python",
   "name": "python3"
  },
  "language_info": {
   "codemirror_mode": {
    "name": "ipython",
    "version": 3
   },
   "file_extension": ".py",
   "mimetype": "text/x-python",
   "name": "python",
   "nbconvert_exporter": "python",
   "pygments_lexer": "ipython3",
   "version": "3.10.9"
  }
 },
 "nbformat": 4,
 "nbformat_minor": 5
}
