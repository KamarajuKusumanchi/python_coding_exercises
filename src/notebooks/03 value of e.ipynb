{
 "cells": [
  {
   "cell_type": "markdown",
   "id": "6486ec3d-b781-4eb0-be58-e72aab66ca25",
   "metadata": {},
   "source": [
    "How to get the value of e"
   ]
  },
  {
   "cell_type": "code",
   "execution_count": 1,
   "id": "9f1e03a5-527b-46db-b61f-b0bd9d17c675",
   "metadata": {},
   "outputs": [],
   "source": [
    "import math"
   ]
  },
  {
   "cell_type": "code",
   "execution_count": 2,
   "id": "621e9fc4-8adc-4fca-9274-420a1ef917a4",
   "metadata": {},
   "outputs": [
    {
     "name": "stdout",
     "output_type": "stream",
     "text": [
      "2.718281828459045\n"
     ]
    }
   ],
   "source": [
    "print(math.e)"
   ]
  },
  {
   "cell_type": "code",
   "execution_count": 3,
   "id": "d8c31251-42e8-4297-bbe2-aed14e8e06d8",
   "metadata": {},
   "outputs": [
    {
     "name": "stdout",
     "output_type": "stream",
     "text": [
      "2.718281828459045\n"
     ]
    }
   ],
   "source": [
    "print(math.exp(1))"
   ]
  },
  {
   "cell_type": "code",
   "execution_count": 4,
   "id": "4310baf6-eda7-4e3f-ae51-3503232fc25c",
   "metadata": {},
   "outputs": [
    {
     "name": "stdout",
     "output_type": "stream",
     "text": [
      "7.3890560989306495\n"
     ]
    }
   ],
   "source": [
    "print(math.e**2)"
   ]
  },
  {
   "cell_type": "code",
   "execution_count": 5,
   "id": "290a8019-534f-440e-a171-0c67d743663e",
   "metadata": {},
   "outputs": [
    {
     "name": "stdout",
     "output_type": "stream",
     "text": [
      "0.0\n"
     ]
    }
   ],
   "source": [
    "print(math.e**2 - pow(math.e, 2))"
   ]
  },
  {
   "cell_type": "code",
   "execution_count": 6,
   "id": "dc27047e-b101-4ac9-b720-f502417e4e81",
   "metadata": {},
   "outputs": [
    {
     "name": "stdout",
     "output_type": "stream",
     "text": [
      "-8.881784197001252e-16\n"
     ]
    }
   ],
   "source": [
    "print(math.e**2 - math.exp(2))"
   ]
  },
  {
   "cell_type": "code",
   "execution_count": null,
   "id": "40a7d78b-9dc4-45b5-b772-ef6a6e8dace6",
   "metadata": {},
   "outputs": [],
   "source": []
  }
 ],
 "metadata": {
  "kernelspec": {
   "display_name": "Python 3 (ipykernel)",
   "language": "python",
   "name": "python3"
  },
  "language_info": {
   "codemirror_mode": {
    "name": "ipython",
    "version": 3
   },
   "file_extension": ".py",
   "mimetype": "text/x-python",
   "name": "python",
   "nbconvert_exporter": "python",
   "pygments_lexer": "ipython3",
   "version": "3.10.6"
  }
 },
 "nbformat": 4,
 "nbformat_minor": 5
}
