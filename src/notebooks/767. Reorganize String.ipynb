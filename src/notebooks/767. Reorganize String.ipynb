{
 "cells": [
  {
   "cell_type": "markdown",
   "id": "a0dc711c-8e5f-47b5-a3a5-124b9ff18147",
   "metadata": {},
   "source": [
    "URL: https://leetcode.com/problems/reorganize-string/description/\n",
    "\n",
    "Used https://immortal-blog.github.io/tomd/ to convert it to markdown."
   ]
  },
  {
   "cell_type": "markdown",
   "id": "3c1b819a-57e4-48c6-9637-1cee14310de9",
   "metadata": {},
   "source": [
    "Given a string `s`, rearrange the characters of `s` so that any two adjacent characters are not the same.\n",
    "\n",
    "Return _any possible rearrangement of_ `s` _or return_ `\"\"` _if not possible_.\n",
    "\n",
    "**Example 1:**\n",
    "\n",
    "**Input:** s = \"aab\"  \n",
    "**Output:** \"aba\"  \n",
    "\n",
    "**Example 2:**\n",
    "\n",
    "**Input:** s = \"aaab\"  \n",
    "**Output:** \"\"  \n",
    "\n",
    "**Constraints:**\n",
    "\n",
    "*   `1 <= s.length <= 500`\n",
    "*   `s` consists of lowercase English letters."
   ]
  },
  {
   "cell_type": "markdown",
   "id": "e8dff97a-a679-4cd3-ac37-7b6de4b4eda7",
   "metadata": {},
   "source": [
    "Thoughts:\n",
    "* Let the length of the string be N\n",
    "* 'aaabbb' can be arranged as 'ababab'\n",
    "* 'aaaabbb' can be arranged as 'abababa'"
   ]
  },
  {
   "cell_type": "code",
   "execution_count": null,
   "id": "49d57433-c726-4073-bf18-24cc94b35d64",
   "metadata": {},
   "outputs": [],
   "source": []
  }
 ],
 "metadata": {
  "kernelspec": {
   "display_name": "Python 3 (ipykernel)",
   "language": "python",
   "name": "python3"
  },
  "language_info": {
   "codemirror_mode": {
    "name": "ipython",
    "version": 3
   },
   "file_extension": ".py",
   "mimetype": "text/x-python",
   "name": "python",
   "nbconvert_exporter": "python",
   "pygments_lexer": "ipython3",
   "version": "3.11.4"
  }
 },
 "nbformat": 4,
 "nbformat_minor": 5
}
